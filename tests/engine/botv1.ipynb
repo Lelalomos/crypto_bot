{
 "cells": [
  {
   "cell_type": "code",
   "execution_count": 5,
   "id": "9200a8e3-09cd-400c-9950-e0e165abb26e",
   "metadata": {},
   "outputs": [],
   "source": [
    "from binance.client import Client\n",
    "import os\n",
    "import json\n",
    "from binance import ThreadedWebsocketManager\n",
    "import numpy as np"
   ]
  },
  {
   "cell_type": "code",
   "execution_count": 6,
   "id": "1bf368ce",
   "metadata": {},
   "outputs": [],
   "source": [
    "with open('../config/key.json') as j:\n",
    "    keys = json.load(j)"
   ]
  },
  {
   "cell_type": "code",
   "execution_count": 7,
   "id": "d896a3a7-5f99-4fe0-bf49-d81094ba852b",
   "metadata": {},
   "outputs": [],
   "source": [
    "data = {\n",
    "    \"price_buy\":[],\n",
    "    \"price_sell\":[],\n",
    "    \"price\":0,\n",
    "    \"status\":True,\n",
    "    \"sell\":0,\n",
    "    \"sw\":True,\n",
    "    \"first\":True,\n",
    "    \"symbol\":\"ETHBUSD\",\n",
    "    \"symbol_play\": \"ETH\",\n",
    "    \"back_price\": np.array([]),\n",
    "    \"price_play\":15\n",
    "}"
   ]
  },
  {
   "cell_type": "code",
   "execution_count": 8,
   "id": "e3e70208-8764-48ec-ae73-40b52a4824e7",
   "metadata": {},
   "outputs": [],
   "source": [
    "client = Client(keys['api_key'], keys['api_secret'])\n",
    "dict_data = {'error':False}\n",
    "bsm = ThreadedWebsocketManager()"
   ]
  },
  {
   "cell_type": "code",
   "execution_count": 11,
   "id": "505ec41d",
   "metadata": {},
   "outputs": [
    {
     "data": {
      "text/plain": [
       "[{'symbol': 'ETHBUSD', 'makerCommission': '0', 'takerCommission': '0.001'}]"
      ]
     },
     "execution_count": 11,
     "metadata": {},
     "output_type": "execute_result"
    }
   ],
   "source": [
    "fees = client.get_trade_fee(symbol='ETHBUSD')\n",
    "fees"
   ]
  },
  {
   "cell_type": "code",
   "execution_count": null,
   "id": "f82ea760",
   "metadata": {},
   "outputs": [],
   "source": [
    "sell_price = client.get_asset_balance(asset=data['symbol_play']).get('free')\n",
    "order_sell = client.order_market_sell(symbol=data['symbol'],quantity=round(float(sell_price),4))"
   ]
  },
  {
   "cell_type": "code",
   "execution_count": 5,
   "id": "82f4387c-2bb6-4d2c-a29e-fe39050a0526",
   "metadata": {},
   "outputs": [],
   "source": [
    "\n",
    "def btc_trade_history(msg):\n",
    "\n",
    "    if data['status'] != True:\n",
    "        print('save data')\n",
    "        with open(\"data.json\", \"w+\") as outfile:\n",
    "            data['back_price'] = data['back_price'].tolist()\n",
    "            json.dump(data, outfile)\n",
    "        bsm.stop()\n",
    "        \n",
    "    if msg['e'] != 'error':\n",
    "        if data['first']:\n",
    "            data['back_price'] = np.append(data['back_price'],float(msg['c']))\n",
    "            if len(data['back_price']) == 10:\n",
    "                print('initial app and prepare data')\n",
    "                print(\"msg:\",msg)\n",
    "                data[\"price\"] = msg['c']\n",
    "                data['first'] = False\n",
    "                data['sw'] = False\n",
    "        else:\n",
    "            \n",
    "            # delete first index in array\n",
    "            data['back_price'] = np.delete(data['back_price'], 0)\n",
    "#           add new data to array\n",
    "            data['back_price'] = np.append(data['back_price'],float(msg['c']))\n",
    "\n",
    "            # print(\"std:\",np.std(data['back_price']))\n",
    "            std = np.std(data['back_price'])\n",
    "            \n",
    "#             len_bprice = len(data['back_price'])\n",
    "#             positive_prob = 0\n",
    "#             for i in range(len_bprice):\n",
    "#                 cur_var = data['back_price'][i]\n",
    "#                 try:\n",
    "#                     curp1_var = data['back_price'][i+1]\n",
    "#                     if cur_var < curp1_var:\n",
    "#                         positive_prob+=1 \n",
    "#                 except IndexError:\n",
    "#                     break\n",
    "                \n",
    "#             # positive_prob = np.sum(prob_back_number)\n",
    "#             negative_prob = len_bprice - positive_prob\n",
    "#             check_prob = True # true:positive, false:nagative\n",
    "#             if positive_prob < negative_prob:\n",
    "#                 check_prob = False\n",
    "            \n",
    "#             print('check_prob:',check_prob)\n",
    "            if data['sw']:\n",
    "                data['price'] = float(data['price'])\n",
    "                msg['c'] = float(msg['c'])\n",
    "                if float(msg['c']) > float(data['price']):\n",
    "                    data['price'] = max(data['price'],float(msg['c']))\n",
    "                    \n",
    "\n",
    "                if float(msg['c']) < data['price']:\n",
    "                    max_var = max(data['price'],msg['c'])\n",
    "                    min_var = min(data['price'],msg['c'])\n",
    "                    percent_sell = ((max_var-min_var)/min_var)*100\n",
    "                    # print(\"percent sell:\",percent_sell)\n",
    "                    if percent_sell > 0.12 and msg['c'] > data['sell']:\n",
    "                        # sell\n",
    "                        sell_price = client.get_asset_balance(asset=data['symbol_play']).get('free')\n",
    "                        print('sell price',round(float(sell_price),3))\n",
    "                        print('type',type(round(float(sell_price),3)))\n",
    "                        # order_sell = client.order_market_sell(symbol=data['symbol'],quantity=round(float(sell_price),4))\n",
    "                        # print('order_sell:',order_sell)\n",
    "                        data[\"price_sell\"].append(msg['c'])\n",
    "                        # save price sell\n",
    "                        data['price'] = msg['c']\n",
    "                        print('sell:',data['price'])\n",
    "                        # change status sw to False\n",
    "                        data['sw'] = False\n",
    "\n",
    "                    # if data['price'] >= data['price_buy'][-1]: \n",
    "                    #     max_sell_acc = max(data[\"price\"],msg['c'])\n",
    "                    #     min_sell_acc = min(data[\"price\"],msg['c'])\n",
    "                    #     percent_sell_acc = ((max_sell_acc-min_sell_acc)/min_sell_acc)*100\n",
    "                    #     if percent_sell_acc >=0.001 and msg['c'] > data['sell'] and std < 0.51:\n",
    "                    #         # sell_price = data[\"earn_coin\"]+round((msg['c'] -  data['price_buy'][-1]),2)\n",
    "                    #         sell_price = client.get_asset_balance(asset=data['symbol_play']).get('free')\n",
    "                    #         print('sell price',round(float(sell_price),3))\n",
    "                    #         print('type',type(round(float(sell_price),3)))\n",
    "                    #         # order_sell = client.order_market_sell(symbol=data['symbol'],quantity=round(float(sell_price),4))\n",
    "                    #         # print('order_sell:',order_sell)\n",
    "                    #         data[\"price_sell\"].append(msg['c'])\n",
    "                    #         data['price'] = msg['c']\n",
    "                    #         print('sell:',data['price'])\n",
    "                    #         data['sw'] = False\n",
    "\n",
    "            else:\n",
    "                msg['c'] = float(msg['c'])\n",
    "                data['price'] = float(data['price'])\n",
    "                if data['price'] > msg['c']:\n",
    "                    data['price'] = min(data['price'],msg['c'])\n",
    "\n",
    "                if msg['c'] > data['price']:\n",
    "                    max_var = max(data['price'],msg['c'])\n",
    "                    min_var = min(data['price'],msg['c'])\n",
    "                    percent_buy = ((max_var-min_var)/min_var)*100\n",
    "                    # print(\"percent buy:\",percent_buy)\n",
    "                    if percent_buy > 0.12:\n",
    "                        buy_coin = round(data[\"price_play\"]/msg['c'],4)\n",
    "                        print(\"buy_coin:\",buy_coin)\n",
    "                        print('type buy_coin',type(buy_coin))\n",
    "                        # order_buy = client.order_market_buy(symbol=data['symbol'],quantity=buy_coin)\n",
    "                        # print('order_buy:',order_buy)\n",
    "                        data[\"price_buy\"].append(msg['c'])\n",
    "                        print('buy:',float(msg['c']))\n",
    "                        data[\"price\"] = float(msg['c'])\n",
    "                        data['price'] = msg['c']\n",
    "                        data['sell'] = msg['c']\n",
    "                        data['sw'] = True\n",
    "                    \n",
    "        dict_data['last'] = msg['c']\n",
    "        dict_data['bid'] = msg['b']\n",
    "        dict_data['last'] = msg['a']\n",
    "        dict_data['error'] = False\n",
    "    else:\n",
    "        dict_data['error'] = True\n"
   ]
  },
  {
   "cell_type": "code",
   "execution_count": 7,
   "id": "56529b1c",
   "metadata": {},
   "outputs": [],
   "source": [
    "bsm.stop()"
   ]
  },
  {
   "cell_type": "code",
   "execution_count": 6,
   "id": "ce39c452-f1de-46c2-8990-8e71a22baa61",
   "metadata": {},
   "outputs": [
    {
     "name": "stdout",
     "output_type": "stream",
     "text": [
      "starting ...... \n"
     ]
    },
    {
     "data": {
      "text/plain": [
       "'ethbusd@ticker'"
      ]
     },
     "execution_count": 6,
     "metadata": {},
     "output_type": "execute_result"
    },
    {
     "name": "stdout",
     "output_type": "stream",
     "text": [
      "initial app and prepare data\n",
      "msg: {'e': '24hrTicker', 'E': 1656084235765, 's': 'ETHBUSD', 'p': '93.79000000', 'P': '8.538', 'w': '1156.17994354', 'x': '1098.26000000', 'c': '1192.26000000', 'Q': '0.45910000', 'b': '1192.26000000', 'B': '1.57600000', 'a': '1192.27000000', 'A': '9.54940000', 'o': '1098.47000000', 'h': '1225.30000000', 'l': '1081.77000000', 'v': '425854.69470000', 'q': '492364656.87654400', 'O': 1655997835593, 'C': 1656084235593, 'F': 317523265, 'L': 318120966, 'n': 597702}\n"
     ]
    }
   ],
   "source": [
    "bsm.start()\n",
    "print('starting ...... ')\n",
    "bsm.start_symbol_ticker_socket(callback=btc_trade_history, symbol=data[\"symbol\"])"
   ]
  },
  {
   "cell_type": "code",
   "execution_count": 9,
   "id": "b11ff522-cc58-4bb9-8655-bf91482363b0",
   "metadata": {},
   "outputs": [
    {
     "data": {
      "text/plain": [
       "1502928000000"
      ]
     },
     "execution_count": 9,
     "metadata": {},
     "output_type": "execute_result"
    }
   ],
   "source": [
    "timestamp = client._get_earliest_valid_timestamp('BTCUSDT', '1d')\n",
    "timestamp"
   ]
  },
  {
   "cell_type": "code",
   "execution_count": 24,
   "id": "272932bd",
   "metadata": {},
   "outputs": [],
   "source": [
    "bars = client.get_historical_klines('ETHBUSD', client.KLINE_INTERVAL_1DAY,\"24 May, 2022\")"
   ]
  },
  {
   "cell_type": "code",
   "execution_count": 26,
   "id": "9114beaf-798b-4df4-9b26-babb4aed9048",
   "metadata": {},
   "outputs": [
    {
     "data": {
      "text/plain": [
       "32"
      ]
     },
     "execution_count": 26,
     "metadata": {},
     "output_type": "execute_result"
    }
   ],
   "source": [
    "len(bars)"
   ]
  }
 ],
 "metadata": {
  "interpreter": {
   "hash": "f1054ff1521f042960063187ec904544ffa1a37d56aac941df4e7da57cada95f"
  },
  "kernelspec": {
   "display_name": "Python 3 (ipykernel)",
   "language": "python",
   "name": "python3"
  },
  "language_info": {
   "codemirror_mode": {
    "name": "ipython",
    "version": 3
   },
   "file_extension": ".py",
   "mimetype": "text/x-python",
   "name": "python",
   "nbconvert_exporter": "python",
   "pygments_lexer": "ipython3",
   "version": "3.9.7"
  }
 },
 "nbformat": 4,
 "nbformat_minor": 5
}
