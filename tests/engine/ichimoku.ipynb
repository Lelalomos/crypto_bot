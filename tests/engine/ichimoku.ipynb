{
 "cells": [
  {
   "cell_type": "code",
   "execution_count": 2,
   "metadata": {},
   "outputs": [],
   "source": [
    "import yfinance as yf\n",
    "import matplotlib.pyplot as plt"
   ]
  },
  {
   "cell_type": "code",
   "execution_count": 35,
   "metadata": {},
   "outputs": [
    {
     "name": "stdout",
     "output_type": "stream",
     "text": [
      "[*********************100%***********************]  1 of 1 completed\n"
     ]
    }
   ],
   "source": [
    "data = yf.download(\"AAPL\", start=\"2022-03-1\", end=\"2022-10-1\")"
   ]
  },
  {
   "cell_type": "code",
   "execution_count": 36,
   "metadata": {},
   "outputs": [
    {
     "data": {
      "text/html": [
       "<div>\n",
       "<style scoped>\n",
       "    .dataframe tbody tr th:only-of-type {\n",
       "        vertical-align: middle;\n",
       "    }\n",
       "\n",
       "    .dataframe tbody tr th {\n",
       "        vertical-align: top;\n",
       "    }\n",
       "\n",
       "    .dataframe thead th {\n",
       "        text-align: right;\n",
       "    }\n",
       "</style>\n",
       "<table border=\"1\" class=\"dataframe\">\n",
       "  <thead>\n",
       "    <tr style=\"text-align: right;\">\n",
       "      <th></th>\n",
       "      <th>Open</th>\n",
       "      <th>High</th>\n",
       "      <th>Low</th>\n",
       "      <th>Close</th>\n",
       "      <th>Adj Close</th>\n",
       "      <th>Volume</th>\n",
       "    </tr>\n",
       "    <tr>\n",
       "      <th>Date</th>\n",
       "      <th></th>\n",
       "      <th></th>\n",
       "      <th></th>\n",
       "      <th></th>\n",
       "      <th></th>\n",
       "      <th></th>\n",
       "    </tr>\n",
       "  </thead>\n",
       "  <tbody>\n",
       "    <tr>\n",
       "      <th>2022-02-28</th>\n",
       "      <td>163.059998</td>\n",
       "      <td>165.419998</td>\n",
       "      <td>162.429993</td>\n",
       "      <td>165.119995</td>\n",
       "      <td>164.649048</td>\n",
       "      <td>95056600</td>\n",
       "    </tr>\n",
       "    <tr>\n",
       "      <th>2022-03-01</th>\n",
       "      <td>164.699997</td>\n",
       "      <td>166.600006</td>\n",
       "      <td>161.970001</td>\n",
       "      <td>163.199997</td>\n",
       "      <td>162.734528</td>\n",
       "      <td>83474400</td>\n",
       "    </tr>\n",
       "    <tr>\n",
       "      <th>2022-03-02</th>\n",
       "      <td>164.389999</td>\n",
       "      <td>167.360001</td>\n",
       "      <td>162.949997</td>\n",
       "      <td>166.559998</td>\n",
       "      <td>166.084946</td>\n",
       "      <td>79724800</td>\n",
       "    </tr>\n",
       "    <tr>\n",
       "      <th>2022-03-03</th>\n",
       "      <td>168.470001</td>\n",
       "      <td>168.910004</td>\n",
       "      <td>165.550003</td>\n",
       "      <td>166.229996</td>\n",
       "      <td>165.755875</td>\n",
       "      <td>76678400</td>\n",
       "    </tr>\n",
       "    <tr>\n",
       "      <th>2022-03-04</th>\n",
       "      <td>164.490005</td>\n",
       "      <td>165.550003</td>\n",
       "      <td>162.100006</td>\n",
       "      <td>163.169998</td>\n",
       "      <td>162.704605</td>\n",
       "      <td>83737200</td>\n",
       "    </tr>\n",
       "  </tbody>\n",
       "</table>\n",
       "</div>"
      ],
      "text/plain": [
       "                  Open        High         Low       Close   Adj Close  \\\n",
       "Date                                                                     \n",
       "2022-02-28  163.059998  165.419998  162.429993  165.119995  164.649048   \n",
       "2022-03-01  164.699997  166.600006  161.970001  163.199997  162.734528   \n",
       "2022-03-02  164.389999  167.360001  162.949997  166.559998  166.084946   \n",
       "2022-03-03  168.470001  168.910004  165.550003  166.229996  165.755875   \n",
       "2022-03-04  164.490005  165.550003  162.100006  163.169998  162.704605   \n",
       "\n",
       "              Volume  \n",
       "Date                  \n",
       "2022-02-28  95056600  \n",
       "2022-03-01  83474400  \n",
       "2022-03-02  79724800  \n",
       "2022-03-03  76678400  \n",
       "2022-03-04  83737200  "
      ]
     },
     "execution_count": 36,
     "metadata": {},
     "output_type": "execute_result"
    }
   ],
   "source": [
    "data.head()"
   ]
  },
  {
   "cell_type": "code",
   "execution_count": 37,
   "metadata": {},
   "outputs": [],
   "source": [
    "d = ichimoku_cloud(data)"
   ]
  },
  {
   "cell_type": "code",
   "execution_count": 38,
   "metadata": {},
   "outputs": [
    {
     "data": {
      "text/html": [
       "<div>\n",
       "<style scoped>\n",
       "    .dataframe tbody tr th:only-of-type {\n",
       "        vertical-align: middle;\n",
       "    }\n",
       "\n",
       "    .dataframe tbody tr th {\n",
       "        vertical-align: top;\n",
       "    }\n",
       "\n",
       "    .dataframe thead th {\n",
       "        text-align: right;\n",
       "    }\n",
       "</style>\n",
       "<table border=\"1\" class=\"dataframe\">\n",
       "  <thead>\n",
       "    <tr style=\"text-align: right;\">\n",
       "      <th></th>\n",
       "      <th>Open</th>\n",
       "      <th>High</th>\n",
       "      <th>Low</th>\n",
       "      <th>Close</th>\n",
       "      <th>Adj Close</th>\n",
       "      <th>Volume</th>\n",
       "      <th>cloud_green_line_a</th>\n",
       "      <th>cloud_red_line_b</th>\n",
       "    </tr>\n",
       "    <tr>\n",
       "      <th>Date</th>\n",
       "      <th></th>\n",
       "      <th></th>\n",
       "      <th></th>\n",
       "      <th></th>\n",
       "      <th></th>\n",
       "      <th></th>\n",
       "      <th></th>\n",
       "      <th></th>\n",
       "    </tr>\n",
       "  </thead>\n",
       "  <tbody>\n",
       "    <tr>\n",
       "      <th>2022-02-28</th>\n",
       "      <td>163.059998</td>\n",
       "      <td>165.419998</td>\n",
       "      <td>162.429993</td>\n",
       "      <td>165.119995</td>\n",
       "      <td>164.649048</td>\n",
       "      <td>95056600</td>\n",
       "      <td>166.495003</td>\n",
       "      <td>153.669998</td>\n",
       "    </tr>\n",
       "    <tr>\n",
       "      <th>2022-03-01</th>\n",
       "      <td>164.699997</td>\n",
       "      <td>166.600006</td>\n",
       "      <td>161.970001</td>\n",
       "      <td>163.199997</td>\n",
       "      <td>162.734528</td>\n",
       "      <td>83474400</td>\n",
       "      <td>162.407505</td>\n",
       "      <td>151.334999</td>\n",
       "    </tr>\n",
       "    <tr>\n",
       "      <th>2022-03-02</th>\n",
       "      <td>164.389999</td>\n",
       "      <td>167.360001</td>\n",
       "      <td>162.949997</td>\n",
       "      <td>166.559998</td>\n",
       "      <td>166.084946</td>\n",
       "      <td>79724800</td>\n",
       "      <td>162.272503</td>\n",
       "      <td>151.199997</td>\n",
       "    </tr>\n",
       "    <tr>\n",
       "      <th>2022-03-03</th>\n",
       "      <td>168.470001</td>\n",
       "      <td>168.910004</td>\n",
       "      <td>165.550003</td>\n",
       "      <td>166.229996</td>\n",
       "      <td>165.755875</td>\n",
       "      <td>76678400</td>\n",
       "      <td>161.482502</td>\n",
       "      <td>150.409996</td>\n",
       "    </tr>\n",
       "    <tr>\n",
       "      <th>2022-03-04</th>\n",
       "      <td>164.490005</td>\n",
       "      <td>165.550003</td>\n",
       "      <td>162.100006</td>\n",
       "      <td>163.169998</td>\n",
       "      <td>162.704605</td>\n",
       "      <td>83737200</td>\n",
       "      <td>160.840000</td>\n",
       "      <td>150.284996</td>\n",
       "    </tr>\n",
       "  </tbody>\n",
       "</table>\n",
       "</div>"
      ],
      "text/plain": [
       "                  Open        High         Low       Close   Adj Close  \\\n",
       "Date                                                                     \n",
       "2022-02-28  163.059998  165.419998  162.429993  165.119995  164.649048   \n",
       "2022-03-01  164.699997  166.600006  161.970001  163.199997  162.734528   \n",
       "2022-03-02  164.389999  167.360001  162.949997  166.559998  166.084946   \n",
       "2022-03-03  168.470001  168.910004  165.550003  166.229996  165.755875   \n",
       "2022-03-04  164.490005  165.550003  162.100006  163.169998  162.704605   \n",
       "\n",
       "              Volume  cloud_green_line_a  cloud_red_line_b  \n",
       "Date                                                        \n",
       "2022-02-28  95056600          166.495003        153.669998  \n",
       "2022-03-01  83474400          162.407505        151.334999  \n",
       "2022-03-02  79724800          162.272503        151.199997  \n",
       "2022-03-03  76678400          161.482502        150.409996  \n",
       "2022-03-04  83737200          160.840000        150.284996  "
      ]
     },
     "execution_count": 38,
     "metadata": {},
     "output_type": "execute_result"
    }
   ],
   "source": [
    "d.head()"
   ]
  },
  {
   "cell_type": "code",
   "execution_count": 20,
   "metadata": {},
   "outputs": [],
   "source": [
    "# ref --> https://stackoverflow.com/questions/28477222/python-pandas-calculate-ichimoku-chart-components\n",
    "def ichimoku_cloud(df,tenkansen_value = 9, kinjunsen_value = 26, shift_value = 26, senkou_b_value = 52):\n",
    "        '''\n",
    "        Get the values of Lines for Ichimoku Cloud\n",
    "        args:\n",
    "            df: Dataframe\n",
    "        '''\n",
    "        d = df.sort_index(ascending=False) # my Live NSE India data is in Recent -> Oldest order\n",
    "\n",
    "        # Tenkan-sen (Conversion Line): (9-period high + 9-period low)/2))\n",
    "        period9_high = d['High'].rolling(window=tenkansen_value).max()\n",
    "        period9_low = d['Low'].rolling(window=tenkansen_value).min()\n",
    "        tenkan_sen = (period9_high + period9_low) / 2\n",
    "\n",
    "        # Kijun-sen (Base Line): (26-period high + 26-period low)/2))\n",
    "        period26_high = d['High'].rolling(window=kinjunsen_value).max()\n",
    "        period26_low = d['Low'].rolling(window=kinjunsen_value).min()\n",
    "        kijun_sen = (period26_high + period26_low) / 2\n",
    "\n",
    "        # Senkou Span A (Leading Span A): (Conversion Line + Base Line)/2))\n",
    "        senkou_span_a = ((tenkan_sen + kijun_sen) / 2).shift(shift_value)\n",
    "\n",
    "        # Senkou Span B (Leading Span B): (52-period high + 52-period low)/2))\n",
    "        period52_high = d['High'].rolling(window=senkou_b_value).max()\n",
    "        period52_low = d['Low'].rolling(window=senkou_b_value).min()\n",
    "        senkou_span_b = ((period52_high + period52_low) / 2).shift(shift_value)\n",
    "\n",
    "        # The most current closing price plotted 22 time periods behind (optional)\n",
    "        chikou_span = d['Close'].shift(-22) # Given at Trading View.\n",
    "\n",
    "        # d['blue_line'] = tenkan_sen\n",
    "        # d['red_line'] = kijun_sen\n",
    "        d['cloud_green_line_a'] = senkou_span_a\n",
    "        d['cloud_red_line_b'] = senkou_span_b\n",
    "        # d['lagging_line'] = chikou_span\n",
    "        return d.sort_index(ascending=True)"
   ]
  },
  {
   "cell_type": "code",
   "execution_count": 21,
   "metadata": {},
   "outputs": [],
   "source": [
    "import matplotlib.pyplot as plt"
   ]
  },
  {
   "cell_type": "code",
   "execution_count": 39,
   "metadata": {},
   "outputs": [
    {
     "data": {
      "text/plain": [
       "[<matplotlib.lines.Line2D at 0x7f86e8870940>]"
      ]
     },
     "execution_count": 39,
     "metadata": {},
     "output_type": "execute_result"
    },
    {
     "data": {
      "image/png": "[encoded data removed]",
      "text/plain": [
       "<Figure size 720x504 with 1 Axes>"
      ]
     },
     "metadata": {
      "needs_background": "light"
     },
     "output_type": "display_data"
    }
   ],
   "source": [
    "fig = plt.figure(figsize=(10, 7))\n",
    "plt.title('IC')\n",
    "\n",
    "plt.plot(d['cloud_green_line_a'], 'g', label='senkou_span_a')\n",
    "plt.plot(d['cloud_red_line_b'], 'r', label='senkou_span_b')"
   ]
  },
  {
   "cell_type": "code",
   "execution_count": null,
   "metadata": {},
   "outputs": [],
   "source": []
  }
 ],
 "metadata": {
  "kernelspec": {
   "display_name": "Python 3.9.7 ('cypto')",
   "language": "python",
   "name": "python3"
  },
  "language_info": {
   "codemirror_mode": {
    "name": "ipython",
    "version": 3
   },
   "file_extension": ".py",
   "mimetype": "text/x-python",
   "name": "python",
   "nbconvert_exporter": "python",
   "pygments_lexer": "ipython3",
   "version": "3.9.7"
  },
  "orig_nbformat": 4,
  "vscode": {
   "interpreter": {
    "hash": "f1054ff1521f042960063187ec904544ffa1a37d56aac941df4e7da57cada95f"
   }
  }
 },
 "nbformat": 4,
 "nbformat_minor": 2
}
