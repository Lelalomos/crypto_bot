{
 "cells": [
  {
   "cell_type": "code",
   "execution_count": 14,
   "id": "b5266df4-9ce5-4476-9a63-710f22826b19",
   "metadata": {},
   "outputs": [],
   "source": [
    "from binance.client import Client\n",
    "import os\n",
    "import json\n",
    "from binance import ThreadedWebsocketManager\n",
    "import numpy as np\n",
    "import pandas as pd\n",
    "from talib.abstract import EMA"
   ]
  },
  {
   "cell_type": "raw",
   "id": "3825788c-34dd-4d2b-a207-7bb61444431a",
   "metadata": {},
   "source": [
    "\"\"\"\n",
    "{\n",
    "                \"e\":\"continuous_kline\",   // Event type\n",
    "                \"E\":1607443058651,        // Event time\n",
    "                \"ps\":\"BTCUSDT\",           // Pair\n",
    "                \"ct\":\"PERPETUAL\"          // Contract type\n",
    "                \"k\":{\n",
    "                    \"t\":1607443020000,      // Kline start time\n",
    "                    \"T\":1607443079999,      // Kline close time\n",
    "                    \"i\":\"1m\",               // Interval\n",
    "                    \"f\":116467658886,       // First trade ID\n",
    "                    \"L\":116468012423,       // Last trade ID\n",
    "                    \"o\":\"18787.00\",         // Open price\n",
    "                    \"c\":\"18804.04\",         // Close price\n",
    "                    \"h\":\"18804.04\",         // High price\n",
    "                    \"l\":\"18786.54\",         // Low price\n",
    "                    \"v\":\"197.664\",          // volume\n",
    "                    \"n\": 543,               // Number of trades\n",
    "                    \"x\":false,              // Is this kline closed?\n",
    "                    \"q\":\"3715253.19494\",    // Quote asset volume\n",
    "                    \"V\":\"184.769\",          // Taker buy volume\n",
    "                    \"Q\":\"3472925.84746\",    //Taker buy quote asset volume\n",
    "                    \"B\":\"0\"                 // Ignore\n",
    "                }\n",
    "                \n",
    "                \n",
    "\"\"\""
   ]
  },
  {
   "cell_type": "code",
   "execution_count": 15,
   "id": "ef3379ed-0dd3-4396-848d-ae7c41579e6f",
   "metadata": {},
   "outputs": [],
   "source": [
    "with open('../config/key.json') as j:\n",
    "    keys = json.load(j)"
   ]
  },
  {
   "cell_type": "code",
   "execution_count": 16,
   "id": "ac9d3162-e0e8-4e55-b9b0-1eeccb19d022",
   "metadata": {},
   "outputs": [],
   "source": [
    "client = Client(keys['api_key'], keys['api_secret'])\n",
    "dict_data = {'error':False}\n",
    "bsm = ThreadedWebsocketManager()"
   ]
  },
  {
   "cell_type": "code",
   "execution_count": 17,
   "id": "55527559",
   "metadata": {},
   "outputs": [],
   "source": [
    "plot_low = []\n",
    "plot_hight = []"
   ]
  },
  {
   "cell_type": "code",
   "execution_count": 18,
   "id": "fc3e4867",
   "metadata": {},
   "outputs": [],
   "source": [
    "debugl = None\n",
    "debugh = None"
   ]
  },
  {
   "cell_type": "code",
   "execution_count": 19,
   "id": "741435db",
   "metadata": {},
   "outputs": [],
   "source": [
    "debugl"
   ]
  },
  {
   "cell_type": "code",
   "execution_count": 20,
   "id": "93b7d1b7-80df-49b9-abca-efabfb69fdfa",
   "metadata": {},
   "outputs": [],
   "source": [
    "def buyORsell(ema_low,ema_hight):\n",
    "#     buy 100>200\n",
    "    plot_low.append(ema_low[-1])\n",
    "    plot_hight.append(ema_hight[-1])\n",
    "    if ema_low[-1]>ema_hight[-1]:\n",
    "        return 0 #False\n",
    "#     sell 100<200\n",
    "    elif ema_low[-1]<ema_hight[-1]:\n",
    "        return 1 #True\n",
    "\n",
    "    return 3"
   ]
  },
  {
   "cell_type": "code",
   "execution_count": 21,
   "id": "1762fef2",
   "metadata": {},
   "outputs": [
    {
     "data": {
      "text/plain": [
       "[]"
      ]
     },
     "execution_count": 21,
     "metadata": {},
     "output_type": "execute_result"
    }
   ],
   "source": [
    "plot_low"
   ]
  },
  {
   "cell_type": "code",
   "execution_count": 22,
   "id": "6be42b1c-5ffa-471a-b66d-dcdde6b2d1b6",
   "metadata": {},
   "outputs": [
    {
     "name": "stdout",
     "output_type": "stream",
     "text": [
      "init get data\n",
      "finish get data\n"
     ]
    }
   ],
   "source": [
    "data = {\n",
    "    \"price_buy\":[],\n",
    "    \"price_sell\":[],\n",
    "    \"p_open\":0,\n",
    "    \"status\":True,\n",
    "    \"sell\":0,\n",
    "    \"sw\":False,\n",
    "    \"first\":True,\n",
    "    \"symbol\":\"ETHBUSD\",\n",
    "    \"starttime\": \"30 day ago UTC\",\n",
    "    \"interval\":\"1m\",\n",
    "    \"low_span\":100,\n",
    "    \"hight_span\":200\n",
    "}\n",
    "\n",
    "print('init get data')\n",
    "bars = client.get_historical_klines(data[\"symbol\"], data[\"interval\"], data[\"starttime\"])\n",
    "bars = [line[4] for line in bars]\n",
    "df = pd.DataFrame(bars, columns=['close'])\n",
    "print('finish get data')\n",
    "\n",
    "def btc_trade_history(msg):\n",
    "    global data,bsm,df\n",
    "\n",
    "    if data['status'] != True:\n",
    "        bsm.stop()\n",
    "        \n",
    "    if msg['e'] != 'error':\n",
    "#         calculate\n",
    "        if data['first']:\n",
    "            data['first'] = False\n",
    "            data['p_open'] = msg['k']['o']\n",
    "            print('p_open:',data['p_open'])\n",
    "        else:\n",
    "            if float(msg['k']['o']) != float(data['p_open']):\n",
    "                # state change \n",
    "                print('state change:',data['p_open'])\n",
    "                df = df.iloc[1: , :]\n",
    "                df2 = pd.DataFrame([msg['k'][\"o\"]],columns=['close'])\n",
    "                df = pd.concat([df, df2], ignore_index = True, axis = 0)\n",
    "                \n",
    "        if float(msg['k']['o']) != float(data['p_open']) or data['first']:\n",
    "            # calculate EMA100 and EMA200\n",
    "            print('df:',df)\n",
    "            low_df = EMA(df['close'],data['low_span'])\n",
    "            hight_df = EMA(df['close'],data['hight_span'])\n",
    "            sORb = buyORsell(low_df, hight_df)\n",
    "\n",
    "            # sell\n",
    "            if data['sw']:\n",
    "                # check price sell>buy\n",
    "                if sORb:\n",
    "                    if float(msg['k']['o']) > float(data[\"price_buy\"][-1]):\n",
    "                        # order_sell = client.order_market_sell(symbol=data['symbol'],quantity=round(float(sell_price),4))\n",
    "                        # print('order_sell:',order_sell)\n",
    "                        data[\"price_sell\"].append(msg['k']['o'])\n",
    "                        # save price sell\n",
    "                        data['price'] = msg['k']['o']\n",
    "                        print('sell:',data['price'])\n",
    "                        # change status sw to False\n",
    "                        data['sw'] = False\n",
    "            # buy\n",
    "            else:\n",
    "                if not sORb:\n",
    "                    # order_buy = client.order_market_buy(symbol=data['symbol'],quantity=buy_coin)\n",
    "                    data[\"price_buy\"].append(msg['k']['o'])\n",
    "                    print('buy:',msg['k']['o'])\n",
    "                    # data[\"price\"] = float(msg['k']['c'])\n",
    "                    data['sw'] = True\n",
    "                    \n",
    "            # change value\n",
    "            data['p_open'] = msg['k']['o']\n",
    "            print('changed:',data['p_open'])\n",
    "                    \n",
    "        dict_data['error'] = False\n",
    "    else:\n",
    "        dict_data['error'] = True"
   ]
  },
  {
   "cell_type": "code",
   "execution_count": 27,
   "id": "193cadd9-87fb-4bd1-95ff-289a347aec43",
   "metadata": {},
   "outputs": [],
   "source": [
    "import matplotlib.pyplot as plt"
   ]
  },
  {
   "cell_type": "code",
   "execution_count": 32,
   "id": "da2955d6-f280-4a86-8c6d-ef9b15f6bf70",
   "metadata": {},
   "outputs": [
    {
     "data": {
      "image/png": "[encoded data removed]",
      "text/plain": [
       "<Figure size 878.4x324 with 1 Axes>"
      ]
     },
     "metadata": {
      "needs_background": "light"
     },
     "output_type": "display_data"
    }
   ],
   "source": [
    "plt.figure(figsize=(12.2, 4.5))\n",
    "plt.plot(plot_low, color= 'red')\n",
    "plt.plot(plot_hight, color= 'blue')\n",
    "# plt.xticks(rotation=45)\n",
    "# plt.legend(loc='upper left')\n",
    "plt.show()"
   ]
  },
  {
   "cell_type": "code",
   "execution_count": 23,
   "id": "47c7062d-b723-4934-8582-07bc3c482270",
   "metadata": {},
   "outputs": [
    {
     "name": "stdout",
     "output_type": "stream",
     "text": [
      "starting ...... \n"
     ]
    },
    {
     "data": {
      "text/plain": [
       "'ethbusd_perpetual@continuousKline_1m'"
      ]
     },
     "execution_count": 23,
     "metadata": {},
     "output_type": "execute_result"
    },
    {
     "name": "stdout",
     "output_type": "stream",
     "text": [
      "p_open: 1677.68\n",
      "state change: 1677.68\n",
      "df:                close\n",
      "0      1529.44000000\n",
      "1      1530.20000000\n",
      "2      1530.30000000\n",
      "3      1529.01000000\n",
      "4      1530.48000000\n",
      "...              ...\n",
      "43196  1680.56000000\n",
      "43197  1679.68000000\n",
      "43198  1678.74000000\n",
      "43199  1678.74000000\n",
      "43200        1677.25\n",
      "\n",
      "[43201 rows x 1 columns]\n",
      "ema_low: [          nan           nan           nan ... 1674.60933369 1674.69112906\n",
      " 1674.74179977]\n",
      "len ema_low: 43201\n",
      "ema_hight: [          nan           nan           nan ... 1667.59973315 1667.71058158\n",
      " 1667.80550117]\n",
      "len ema_hight: 43201\n",
      "buy: 1677.25\n",
      "changed: 1677.25\n",
      "state change: 1677.25\n",
      "df:                close\n",
      "0      1530.20000000\n",
      "1      1530.30000000\n",
      "2      1529.01000000\n",
      "3      1530.48000000\n",
      "4      1529.33000000\n",
      "...              ...\n",
      "43196  1679.68000000\n",
      "43197  1678.74000000\n",
      "43198  1678.74000000\n",
      "43199        1677.25\n",
      "43200        1678.18\n",
      "\n",
      "[43201 rows x 1 columns]\n",
      "ema_low: [          nan           nan           nan ... 1674.69112906 1674.74179977\n",
      " 1674.80988294]\n",
      "len ema_low: 43201\n",
      "ema_hight: [          nan           nan           nan ... 1667.71058158 1667.80550117\n",
      " 1667.90873001]\n",
      "len ema_hight: 43201\n",
      "changed: 1678.18\n"
     ]
    }
   ],
   "source": [
    "bsm.start()\n",
    "print('starting ...... ')\n",
    "# bsm.start_symbol_ticker_socket(callback=btc_trade_history, symbol=data[\"symbol\"])\n",
    "bsm.start_kline_futures_socket(callback=btc_trade_history, symbol=data[\"symbol\"],interval=\"1m\")\n",
    "# bsm.start_kline_socket(callback= btc_trade_history,symbol=data[\"symbol\"])"
   ]
  },
  {
   "cell_type": "code",
   "execution_count": 35,
   "id": "83181f73",
   "metadata": {},
   "outputs": [],
   "source": [
    "bsm.stop()"
   ]
  },
  {
   "cell_type": "code",
   "execution_count": 33,
   "id": "8cd4d68b-b5d6-40ad-8cb8-7588e374fa47",
   "metadata": {},
   "outputs": [
    {
     "data": {
      "text/plain": [
       "[1674.741799770511,\n",
       " 1674.8098829433723,\n",
       " 1674.8253308058797,\n",
       " 1674.8190866315058,\n",
       " 1674.834946302169]"
      ]
     },
     "execution_count": 33,
     "metadata": {},
     "output_type": "execute_result"
    }
   ],
   "source": [
    "plot_low"
   ]
  },
  {
   "cell_type": "code",
   "execution_count": 34,
   "id": "28225d4c-62d0-4244-960d-f48ec8209d6f",
   "metadata": {},
   "outputs": [
    {
     "data": {
      "text/plain": [
       "[1667.8055011669537,\n",
       " 1667.9087300110637,\n",
       " 1667.9851605582173,\n",
       " 1668.0500843337575,\n",
       " 1668.1254068777002]"
      ]
     },
     "execution_count": 34,
     "metadata": {},
     "output_type": "execute_result"
    }
   ],
   "source": [
    "plot_hight"
   ]
  },
  {
   "cell_type": "code",
   "execution_count": null,
   "id": "c0be4d69-8a95-4735-9557-533d3fa8100a",
   "metadata": {},
   "outputs": [],
   "source": []
  }
 ],
 "metadata": {
  "kernelspec": {
   "display_name": "Python 3 (ipykernel)",
   "language": "python",
   "name": "python3"
  },
  "language_info": {
   "codemirror_mode": {
    "name": "ipython",
    "version": 3
   },
   "file_extension": ".py",
   "mimetype": "text/x-python",
   "name": "python",
   "nbconvert_exporter": "python",
   "pygments_lexer": "ipython3",
   "version": "3.9.7"
  },
  "vscode": {
   "interpreter": {
    "hash": "f1054ff1521f042960063187ec904544ffa1a37d56aac941df4e7da57cada95f"
   }
  }
 },
 "nbformat": 4,
 "nbformat_minor": 5
}
