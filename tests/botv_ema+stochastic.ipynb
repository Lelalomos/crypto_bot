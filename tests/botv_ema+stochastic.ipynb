{
 "cells": [
  {
   "cell_type": "code",
   "execution_count": 1,
   "id": "b5266df4-9ce5-4476-9a63-710f22826b19",
   "metadata": {},
   "outputs": [],
   "source": [
    "from binance.client import Client\n",
    "import os\n",
    "import json\n",
    "from binance import ThreadedWebsocketManager\n",
    "import numpy as np\n",
    "import pandas as pd\n",
    "from talib.abstract import EMA, STOCH"
   ]
  },
  {
   "cell_type": "raw",
   "id": "3825788c-34dd-4d2b-a207-7bb61444431a",
   "metadata": {},
   "source": [
    "\"\"\"\n",
    "{\n",
    "                \"e\":\"continuous_kline\",   // Event type\n",
    "                \"E\":1607443058651,        // Event time\n",
    "                \"ps\":\"BTCUSDT\",           // Pair\n",
    "                \"ct\":\"PERPETUAL\"          // Contract type\n",
    "                \"k\":{\n",
    "                    \"t\":1607443020000,      // Kline start time\n",
    "                    \"T\":1607443079999,      // Kline close time\n",
    "                    \"i\":\"1m\",               // Interval\n",
    "                    \"f\":116467658886,       // First trade ID\n",
    "                    \"L\":116468012423,       // Last trade ID\n",
    "                    \"o\":\"18787.00\",         // Open price\n",
    "                    \"c\":\"18804.04\",         // Close price\n",
    "                    \"h\":\"18804.04\",         // High price\n",
    "                    \"l\":\"18786.54\",         // Low price\n",
    "                    \"v\":\"197.664\",          // volume\n",
    "                    \"n\": 543,               // Number of trades\n",
    "                    \"x\":false,              // Is this kline closed?\n",
    "                    \"q\":\"3715253.19494\",    // Quote asset volume\n",
    "                    \"V\":\"184.769\",          // Taker buy volume\n",
    "                    \"Q\":\"3472925.84746\",    //Taker buy quote asset volume\n",
    "                    \"B\":\"0\"                 // Ignore\n",
    "                }\n",
    "                \n",
    "                \n",
    "\"\"\""
   ]
  },
  {
   "cell_type": "code",
   "execution_count": 2,
   "id": "ef3379ed-0dd3-4396-848d-ae7c41579e6f",
   "metadata": {},
   "outputs": [],
   "source": [
    "with open('../config/key.json') as j:\n",
    "    keys = json.load(j)"
   ]
  },
  {
   "cell_type": "code",
   "execution_count": 3,
   "id": "ac9d3162-e0e8-4e55-b9b0-1eeccb19d022",
   "metadata": {},
   "outputs": [],
   "source": [
    "client = Client(keys['api_key'], keys['api_secret'])\n",
    "dict_data = {'error':False}\n",
    "bsm = ThreadedWebsocketManager()"
   ]
  },
  {
   "cell_type": "code",
   "execution_count": 4,
   "id": "55527559",
   "metadata": {},
   "outputs": [],
   "source": [
    "plot_low = []\n",
    "plot_hight = []\n",
    "plot_stoch_k = []\n",
    "plot_stoch_d = []"
   ]
  },
  {
   "cell_type": "code",
   "execution_count": 5,
   "id": "93b7d1b7-80df-49b9-abca-efabfb69fdfa",
   "metadata": {},
   "outputs": [],
   "source": [
    "def buyORsell(ema_low,ema_hight):\n",
    "#     buy 100>200\n",
    "    plot_low.append(ema_low[-1])\n",
    "    plot_hight.append(ema_hight[-1])\n",
    "    if ema_low[-1]>ema_hight[-1]:\n",
    "        return 0 #False\n",
    "#     sell 100<200\n",
    "    elif ema_low[-1]<ema_hight[-1]:\n",
    "        return 1 #True\n",
    "\n",
    "    return 3"
   ]
  },
  {
   "cell_type": "code",
   "execution_count": 6,
   "id": "6be42b1c-5ffa-471a-b66d-dcdde6b2d1b6",
   "metadata": {},
   "outputs": [
    {
     "name": "stdout",
     "output_type": "stream",
     "text": [
      "init get data\n",
      "finish get data\n"
     ]
    }
   ],
   "source": [
    "data = {\n",
    "    \"price_buy\":[],\n",
    "    \"price_sell\":[],\n",
    "    \"p_open\":0,\n",
    "    \"status\":True,\n",
    "    \"sell\":0,\n",
    "    \"sw\":False,\n",
    "    \"first\":True,\n",
    "    \"symbol\":\"ETHBUSD\",\n",
    "    \"starttime\": \"30 day ago UTC\",\n",
    "    \"interval\":\"1m\",\n",
    "    \"low_span\":100,\n",
    "    \"hight_span\":200\n",
    "}\n",
    "\n",
    "print('init get data')\n",
    "bars = client.get_historical_klines(data[\"symbol\"], data[\"interval\"], data[\"starttime\"])\n",
    "# hight, low, close\n",
    "bars = [line[2:5] for line in bars]\n",
    "df = pd.DataFrame(bars, columns=['hight','low','close'])\n",
    "print('finish get data')\n",
    "\n",
    "def btc_trade_history(msg):\n",
    "    global data,bsm,df\n",
    "\n",
    "    if data['status'] != True:\n",
    "        bsm.stop()\n",
    "        \n",
    "    if msg['e'] != 'error':\n",
    "#         calculate\n",
    "        if data['first']:\n",
    "            data['first'] = False\n",
    "            data['p_open'] = msg['k']['o']\n",
    "            print('p_open:',data['p_open'])\n",
    "        else:\n",
    "            if float(msg['k']['o']) != float(data['p_open']):\n",
    "                # state change \n",
    "                print('state change:',data['p_open'])\n",
    "                df = df.iloc[1: , :]\n",
    "                df2 = pd.DataFrame({'hight':float(msg['k']['h']), 'low':float(msg['k']['l']), 'close':float(msg['k']['c'])},index=[0])\n",
    "                df = pd.concat([df, df2], ignore_index = True, axis = 0)\n",
    "                \n",
    "        if float(msg['k']['o']) != float(data['p_open']) or data['first']:\n",
    "            # calculate EMA100 and EMA200\n",
    "            # print(f\"price o:{msg['k']['o']}, price c:{msg['k']['c']}\")\n",
    "            low_df = EMA(df['close'],data['low_span'])\n",
    "            hight_df = EMA(df['close'],data['hight_span'])\n",
    "            sORb = buyORsell(low_df, hight_df)\n",
    "            slowk, slowd = STOCH(df['hight'],df['low'],df['close'])\n",
    "            plot_stoch_k.append(slowk[-1])\n",
    "            plot_stoch_d.append(slowd[-1])\n",
    "\n",
    "            # sell\n",
    "            if data['sw']:\n",
    "                # check price sell>buy\n",
    "                if sORb and slowk[-1] < slowd[-1] and slowk[-1] >= 80 and slowd[-1] >= 80:\n",
    "                    if float(msg['k']['c']) > float(data[\"price_buy\"][-1]):\n",
    "                        # order_sell = client.order_market_sell(symbol=data['symbol'],quantity=round(float(sell_price),4))\n",
    "                        # print('order_sell:',order_sell)\n",
    "                        data[\"price_sell\"].append(msg['k']['c'])\n",
    "                        # save price sell\n",
    "                        data['price'] = msg['k']['c']\n",
    "                        print('sell:',data['price'])\n",
    "                        # change status sw to False\n",
    "                        data['sw'] = False\n",
    "            # buy\n",
    "            else:\n",
    "                if not sORb and slowk[-1] > slowd[-1] and slowk[-1] <= 20 and slowd[-1] <= 20:\n",
    "                    # order_buy = client.order_market_buy(symbol=data['symbol'],quantity=buy_coin)\n",
    "                    data[\"price_buy\"].append(msg['k']['c'])\n",
    "                    print('buy:',msg['k']['c'])\n",
    "                    # data[\"price\"] = float(msg['k']['o'])\n",
    "                    data['sw'] = True\n",
    "                    \n",
    "            # change value\n",
    "            data['p_open'] = msg['k']['o']\n",
    "            print('changed:',data['p_open'])\n",
    "                    \n",
    "        dict_data['error'] = False\n",
    "    else:\n",
    "        dict_data['error'] = True"
   ]
  },
  {
   "cell_type": "code",
   "execution_count": 11,
   "id": "193cadd9-87fb-4bd1-95ff-289a347aec43",
   "metadata": {},
   "outputs": [],
   "source": [
    "import matplotlib.pyplot as plt"
   ]
  },
  {
   "cell_type": "code",
   "execution_count": 21,
   "id": "da2955d6-f280-4a86-8c6d-ef9b15f6bf70",
   "metadata": {},
   "outputs": [
    {
     "data": {
      "image/png": "[encoded data removed]",
      "text/plain": [
       "<Figure size 878.4x324 with 1 Axes>"
      ]
     },
     "metadata": {
      "needs_background": "light"
     },
     "output_type": "display_data"
    }
   ],
   "source": [
    "plt.figure(figsize=(12.2, 4.5))\n",
    "plt.plot(plot_low, color= 'red')\n",
    "plt.plot(plot_hight, color= 'blue')\n",
    "plt.show()"
   ]
  },
  {
   "cell_type": "code",
   "execution_count": 22,
   "id": "a9d10b43",
   "metadata": {},
   "outputs": [
    {
     "data": {
      "image/png": "[encoded data removed]",
      "text/plain": [
       "<Figure size 878.4x324 with 1 Axes>"
      ]
     },
     "metadata": {
      "needs_background": "light"
     },
     "output_type": "display_data"
    },
    {
     "name": "stdout",
     "output_type": "stream",
     "text": [
      "state change: 1702.84\n",
      "changed: 1703.30\n",
      "state change: 1703.30\n",
      "changed: 1701.49\n",
      "state change: 1701.49\n",
      "changed: 1702.43\n",
      "state change: 1702.43\n",
      "changed: 1703.49\n",
      "state change: 1703.49\n",
      "changed: 1702.92\n",
      "state change: 1702.92\n",
      "changed: 1703.64\n"
     ]
    }
   ],
   "source": [
    "plt.figure(figsize=(12.2, 4.5))\n",
    "plt.plot(plot_stoch_k, color= 'red')\n",
    "plt.plot(plot_stoch_d, color= 'blue')\n",
    "plt.show()"
   ]
  },
  {
   "cell_type": "code",
   "execution_count": 17,
   "id": "77ee77ea",
   "metadata": {},
   "outputs": [
    {
     "data": {
      "text/plain": [
       "24.041585445094217"
      ]
     },
     "execution_count": 17,
     "metadata": {},
     "output_type": "execute_result"
    }
   ],
   "source": [
    "plot_stoch_k[-1][-1]"
   ]
  },
  {
   "cell_type": "code",
   "execution_count": 7,
   "id": "47c7062d-b723-4934-8582-07bc3c482270",
   "metadata": {},
   "outputs": [
    {
     "name": "stdout",
     "output_type": "stream",
     "text": [
      "starting ...... \n"
     ]
    },
    {
     "data": {
      "text/plain": [
       "'ethbusd_perpetual@continuousKline_1m'"
      ]
     },
     "execution_count": 7,
     "metadata": {},
     "output_type": "execute_result"
    },
    {
     "name": "stdout",
     "output_type": "stream",
     "text": [
      "p_open: 1705.39\n",
      "state change: 1705.39\n",
      "changed: 1705.16\n",
      "state change: 1705.16\n",
      "changed: 1705.41\n"
     ]
    }
   ],
   "source": [
    "bsm.start()\n",
    "print('starting ...... ')\n",
    "# bsm.start_symbol_ticker_socket(callback=btc_trade_history, symbol=data[\"symbol\"])\n",
    "bsm.start_kline_futures_socket(callback=btc_trade_history, symbol=data[\"symbol\"],interval=\"1m\")\n",
    "# bsm.start_kline_socket(callback= btc_trade_history,symbol=data[\"symbol\"])"
   ]
  },
  {
   "cell_type": "code",
   "execution_count": 18,
   "id": "83181f73",
   "metadata": {},
   "outputs": [],
   "source": [
    "bsm.stop()"
   ]
  },
  {
   "cell_type": "code",
   "execution_count": 8,
   "id": "8cd4d68b-b5d6-40ad-8cb8-7588e374fa47",
   "metadata": {},
   "outputs": [
    {
     "data": {
      "text/plain": [
       "[1703.625433438256, 1703.6609694097758]"
      ]
     },
     "execution_count": 8,
     "metadata": {},
     "output_type": "execute_result"
    }
   ],
   "source": [
    "plot_low"
   ]
  },
  {
   "cell_type": "code",
   "execution_count": 9,
   "id": "28225d4c-62d0-4244-960d-f48ec8209d6f",
   "metadata": {},
   "outputs": [
    {
     "data": {
      "text/plain": [
       "[1703.3370980896625, 1703.357823481805]"
      ]
     },
     "execution_count": 9,
     "metadata": {},
     "output_type": "execute_result"
    }
   ],
   "source": [
    "plot_hight"
   ]
  },
  {
   "cell_type": "code",
   "execution_count": null,
   "id": "c0be4d69-8a95-4735-9557-533d3fa8100a",
   "metadata": {},
   "outputs": [],
   "source": []
  }
 ],
 "metadata": {
  "kernelspec": {
   "display_name": "Python 3 (ipykernel)",
   "language": "python",
   "name": "python3"
  },
  "language_info": {
   "codemirror_mode": {
    "name": "ipython",
    "version": 3
   },
   "file_extension": ".py",
   "mimetype": "text/x-python",
   "name": "python",
   "nbconvert_exporter": "python",
   "pygments_lexer": "ipython3",
   "version": "3.9.7"
  },
  "vscode": {
   "interpreter": {
    "hash": "f1054ff1521f042960063187ec904544ffa1a37d56aac941df4e7da57cada95f"
   }
  }
 },
 "nbformat": 4,
 "nbformat_minor": 5
}
